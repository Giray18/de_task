{
 "cells": [
  {
   "cell_type": "markdown",
   "metadata": {},
   "source": [
    "## Package Imports"
   ]
  },
  {
   "cell_type": "code",
   "execution_count": 2,
   "metadata": {},
   "outputs": [],
   "source": [
    "import pandas as pd\n",
    "import json\n",
    "from datetime import datetime, timedelta, date\n",
    "import openpyxl\n",
    "import xlsxwriter\n",
    "import dat\n",
    "import os"
   ]
  },
  {
   "cell_type": "markdown",
   "metadata": {},
   "source": [
    "## Getting S3 source file names into a list"
   ]
  },
  {
   "cell_type": "code",
   "execution_count": 3,
   "metadata": {},
   "outputs": [],
   "source": [
    "df_names = [\"item.csv\",\"event.csv\"]"
   ]
  },
  {
   "cell_type": "markdown",
   "metadata": {},
   "source": [
    "## Getting Values for Analysis of Dataframes by a loop"
   ]
  },
  {
   "cell_type": "code",
   "execution_count": 4,
   "metadata": {},
   "outputs": [],
   "source": [
    "# Calling function/method names from analysis_dict.py file (user selective)\n",
    "functions_df_names = dat.analysis_dict()"
   ]
  },
  {
   "cell_type": "markdown",
   "metadata": {},
   "source": [
    "## Applying Data Profiling Methods and Save Into .xlsx File"
   ]
  },
  {
   "cell_type": "code",
   "execution_count": 6,
   "metadata": {},
   "outputs": [],
   "source": [
    "df_dict = {}\n",
    "# Loop through source file names\n",
    "for df in df_names:\n",
    "    # Reading source files and assigning to a dataframe name\n",
    "    vars()[df] = dat.df_read_aws(\"merkle-de-interview-case-study/de\",f\"{df}\")\n",
    "    # calling methods from structure and applying to dataframes read from S3 bucket \n",
    "    for df_name,method in functions_df_names.items():\n",
    "        df_name_str = str(df_name)\n",
    "        df_name = method(vars()[df])\n",
    "        # Saving profile results holding df names and pandas dfs into a dict\n",
    "        df_dict[df_name_str] = df_name\n",
    "    # Using save_dataframe_excel method to create output files\n",
    "    dat.save_dataframe_excel(df_dict,f\"analysis_dataset_{df}_{date.today()}\")\n"
   ]
  }
 ],
 "metadata": {
  "kernelspec": {
   "display_name": "Python 3.8.8 32-bit",
   "language": "python",
   "name": "python3"
  },
  "language_info": {
   "codemirror_mode": {
    "name": "ipython",
    "version": 3
   },
   "file_extension": ".py",
   "mimetype": "text/x-python",
   "name": "python",
   "nbconvert_exporter": "python",
   "pygments_lexer": "ipython3",
   "version": "3.11.1"
  },
  "vscode": {
   "interpreter": {
    "hash": "c20fde216d2155112c50961c43343037d5dc4859966493adc092aeb7349463d9"
   }
  }
 },
 "nbformat": 4,
 "nbformat_minor": 2
}
