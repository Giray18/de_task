{
 "cells": [
  {
   "cell_type": "markdown",
   "metadata": {
    "application/vnd.databricks.v1+cell": {
     "cellMetadata": {
      "byteLimit": 2048000,
      "rowLimit": 10000
     },
     "inputWidgets": {},
     "nuid": "5181f68a-6df5-4337-8f9c-2dd25e029e99",
     "showTitle": false,
     "title": ""
    }
   },
   "source": [
    "##Starter_Notebook, \n",
    "### This notebook will initiate notebook runs as needed to populate 3 layer one after another. Consider a scenario where this notebook being triggered on a Azure Data Factory pipeline. By this action, we are able to apply delta load to our tables."
   ]
  },
  {
   "cell_type": "markdown",
   "metadata": {
    "application/vnd.databricks.v1+cell": {
     "cellMetadata": {
      "byteLimit": 2048000,
      "rowLimit": 10000
     },
     "inputWidgets": {},
     "nuid": "7250e21f-1b3c-465d-b5b5-7b0a3268f16a",
     "showTitle": false,
     "title": ""
    }
   },
   "source": [
    "## Creating Variables"
   ]
  },
  {
   "cell_type": "code",
   "execution_count": 0,
   "metadata": {
    "application/vnd.databricks.v1+cell": {
     "cellMetadata": {
      "byteLimit": 2048000,
      "rowLimit": 10000
     },
     "inputWidgets": {},
     "nuid": "3597853d-d6c2-45ec-92e1-435b7335adc2",
     "showTitle": false,
     "title": ""
    }
   },
   "outputs": [],
   "source": [
    "notebook_names = [\"bronze_layer_pipeline\",\"silver_layer_pipeline\",\"gold_layer_pipeline\"]"
   ]
  },
  {
   "cell_type": "markdown",
   "metadata": {
    "application/vnd.databricks.v1+cell": {
     "cellMetadata": {
      "byteLimit": 2048000,
      "rowLimit": 10000
     },
     "inputWidgets": {},
     "nuid": "05820453-d894-415e-a00e-9409af84e009",
     "showTitle": false,
     "title": ""
    }
   },
   "source": [
    "## Running Notebooks"
   ]
  },
  {
   "cell_type": "code",
   "execution_count": 0,
   "metadata": {
    "application/vnd.databricks.v1+cell": {
     "cellMetadata": {
      "byteLimit": 2048000,
      "rowLimit": 10000
     },
     "inputWidgets": {},
     "nuid": "6680ab3e-5438-407c-9dd3-6d31a6cae4bb",
     "showTitle": false,
     "title": ""
    }
   },
   "outputs": [
    {
     "output_type": "stream",
     "name": "stdout",
     "output_type": "stream",
     "text": [
      "running bronze_layer_pipeline\nrunning bronze_layer_pipeline completed\nrunning silver_layer_pipeline\nrunning silver_layer_pipeline completed\nrunning gold_layer_pipeline\nrunning gold_layer_pipeline completed\n"
     ]
    }
   ],
   "source": [
    "for notebook_name in notebook_names:\n",
    "    print(f'running {notebook_name}')\n",
    "    dbutils.notebook.run(f'{notebook_name}',1000)\n",
    "    print(f'running {notebook_name} completed')"
   ]
  }
 ],
 "metadata": {
  "application/vnd.databricks.v1+notebook": {
   "dashboards": [],
   "language": "python",
   "notebookMetadata": {
    "pythonIndentUnit": 4
   },
   "notebookName": "starter_notebook",
   "widgets": {}
  }
 },
 "nbformat": 4,
 "nbformat_minor": 0
}
